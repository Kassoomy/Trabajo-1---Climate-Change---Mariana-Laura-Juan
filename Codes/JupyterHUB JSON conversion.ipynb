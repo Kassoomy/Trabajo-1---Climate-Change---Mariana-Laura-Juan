{
 "cells": [
  {
   "cell_type": "code",
   "execution_count": 4,
   "metadata": {},
   "outputs": [
    {
     "data": {
      "application/vnd.jupyter.widget-view+json": {
       "model_id": "",
       "version_major": 2,
       "version_minor": 0
      },
      "text/plain": [
       "FloatProgress(value=0.0, bar_style='info', description='Progress:', layout=Layout(height='25px', width='50%'),…"
      ]
     },
     "metadata": {},
     "output_type": "display_data"
    }
   ],
   "source": [
    "from pyspark.sql.functions import explode, col"
   ]
  },
  {
   "cell_type": "code",
   "execution_count": 1,
   "metadata": {
    "collapsed": true
   },
   "outputs": [
    {
     "name": "stdout",
     "output_type": "stream",
     "text": [
      "Starting Spark application\n"
     ]
    },
    {
     "data": {
      "text/html": [
       "<table>\n",
       "<tr><th>ID</th><th>YARN Application ID</th><th>Kind</th><th>State</th><th>Spark UI</th><th>Driver log</th><th>Current session?</th></tr><tr><td>1</td><td>application_1663214425655_0004</td><td>pyspark</td><td>idle</td><td><a target=\"_blank\" href=\"http://ip-172-31-68-105.ec2.internal:20888/proxy/application_1663214425655_0004/\">Link</a></td><td><a target=\"_blank\" href=\"http://ip-172-31-70-133.ec2.internal:8042/node/containerlogs/container_1663214425655_0004_01_000001/livy\">Link</a></td><td>✔</td></tr></table>"
      ],
      "text/plain": [
       "<IPython.core.display.HTML object>"
      ]
     },
     "metadata": {},
     "output_type": "display_data"
    },
    {
     "data": {
      "application/vnd.jupyter.widget-view+json": {
       "model_id": "",
       "version_major": 2,
       "version_minor": 0
      },
      "text/plain": [
       "FloatProgress(value=0.0, bar_style='info', description='Progress:', layout=Layout(height='25px', width='50%'),…"
      ]
     },
     "metadata": {},
     "output_type": "display_data"
    },
    {
     "name": "stdout",
     "output_type": "stream",
     "text": [
      "SparkSession available as 'spark'.\n"
     ]
    },
    {
     "data": {
      "application/vnd.jupyter.widget-view+json": {
       "model_id": "",
       "version_major": 2,
       "version_minor": 0
      },
      "text/plain": [
       "FloatProgress(value=0.0, bar_style='info', description='Progress:', layout=Layout(height='25px', width='50%'),…"
      ]
     },
     "metadata": {},
     "output_type": "display_data"
    },
    {
     "data": {
      "application/vnd.jupyter.widget-view+json": {
       "model_id": "7616f8e7e64a4fe4b52fe0eab8be32dc",
       "version_major": 2,
       "version_minor": 0
      },
      "text/plain": [
       "VBox(children=(HBox(children=(HTML(value='Type:'), Button(description='Table', layout=Layout(width='70px'), st…"
      ]
     },
     "metadata": {},
     "output_type": "display_data"
    },
    {
     "data": {
      "application/vnd.jupyter.widget-view+json": {
       "model_id": "2ad794b4d1c34de8804d433825ad17a4",
       "version_major": 2,
       "version_minor": 0
      },
      "text/plain": [
       "Output()"
      ]
     },
     "metadata": {},
     "output_type": "display_data"
    }
   ],
   "source": [
    "%%sql\n",
    "SHOW DATABASES;"
   ]
  },
  {
   "cell_type": "code",
   "execution_count": 2,
   "metadata": {},
   "outputs": [
    {
     "data": {
      "application/vnd.jupyter.widget-view+json": {
       "model_id": "",
       "version_major": 2,
       "version_minor": 0
      },
      "text/plain": [
       "FloatProgress(value=0.0, bar_style='info', description='Progress:', layout=Layout(height='25px', width='50%'),…"
      ]
     },
     "metadata": {},
     "output_type": "display_data"
    },
    {
     "name": "stdout",
     "output_type": "stream",
     "text": [
      "root\n",
      " |-- ciudad: string (nullable = true)\n",
      " |-- codigo: string (nullable = true)\n",
      " |-- datos: array (nullable = true)\n",
      " |    |-- element: struct (containsNull = true)\n",
      " |    |    |-- datos: array (nullable = true)\n",
      " |    |    |    |-- element: struct (containsNull = true)\n",
      " |    |    |    |    |-- calidad: double (nullable = true)\n",
      " |    |    |    |    |-- valor: double (nullable = true)\n",
      " |    |    |    |    |-- variableConsulta: string (nullable = true)\n",
      " |    |    |-- fecha: string (nullable = true)\n",
      " |-- latitud: string (nullable = true)\n",
      " |-- longitud: string (nullable = true)\n",
      " |-- nombre: string (nullable = true)\n",
      " |-- subcuenca: string (nullable = true)\n",
      "\n",
      "+----------+------+--------------------+--------+----------+--------------------+------------------+\n",
      "|    ciudad|codigo|               datos| latitud|  longitud|              nombre|         subcuenca|\n",
      "+----------+------+--------------------+--------+----------+--------------------+------------------+\n",
      "|  Medellin|    59|[{[{1.0, 18.7, te...|6.213940|-75.558970|              ISAGEN|  Q. La Presidenta|\n",
      "|  Medellin|    68|[{[{1.0, 20.8, te...|6.269250|-75.562910|     Jardin Botanico|    Q. La Chorrera|\n",
      "|Copacabana|    73|[{[{1.0, 19.3, te...|6.345343|-75.504722|Ciudadela Educati...|R. Aburra-Medellin|\n",
      "|   Barbosa|    82|[{[{1.0, 19.7, te...|6.434950|-75.326646|I.E Manuel Jose C...|  Q. Agua Caliente|\n",
      "|  Medellin|    83|[{[{1.0, 17.0, te...|6.271891|-75.631123|Centro de Salud S...|      Q. La Iguana|\n",
      "|    Caldas|   105|[{[{1.0, 17.6, te...|6.096280|-75.635360|      Parque 3 Aguas|R. Aburra-Medellin|\n",
      "|   Barbosa|   122|[{[{1.0, 15.0, te...|6.424500|-75.435220|            Tasajera|       Q. La Silva|\n",
      "|  Medellin|   201|[{[{4.0, -9999.0,...|6.259195|-75.588697|         Torre SIATA|       Q. La Hueso|\n",
      "|  Medellin|   202|[{[{1.0, 20.8, te...|6.242238|-75.574031|                AMVA|R. Aburra-Medellin|\n",
      "|  Medellin|   203|[{[{1.0, 19.5, te...|6.260740|-75.578250| UNAL-Sede Agronomia|      Q. La Iguana|\n",
      "|  Medellin|   205|[{[{4.0, -9999.0,...|6.193500|-75.527600|   Santa Elena-Radar|  Q. La Presidenta|\n",
      "|    Itagui|   206|[{[{1567.0, 17.9,...|6.167930|-75.643800|Colegio Concejo d...|     Q. Dona Maria|\n",
      "|    Guarne|   207|[{[{1.0, 12.3, te...|6.283280|-75.493970|Vivero EPM Piedra...|Q. Piedras Blancas|\n",
      "+----------+------+--------------------+--------+----------+--------------------+------------------+"
     ]
    }
   ],
   "source": [
    "df = spark.read.json('s3a://trabajo1-mariana-laura-juan/Transient/Medellin/Datos_SIATA_Vaisala_temperatura.json')\n",
    "df.printSchema()\n",
    "df.show()"
   ]
  },
  {
   "cell_type": "code",
   "execution_count": 5,
   "metadata": {
    "collapsed": true
   },
   "outputs": [
    {
     "data": {
      "application/vnd.jupyter.widget-view+json": {
       "model_id": "",
       "version_major": 2,
       "version_minor": 0
      },
      "text/plain": [
       "FloatProgress(value=0.0, bar_style='info', description='Progress:', layout=Layout(height='25px', width='50%'),…"
      ]
     },
     "metadata": {},
     "output_type": "display_data"
    },
    {
     "name": "stdout",
     "output_type": "stream",
     "text": [
      "root\n",
      " |-- col: struct (nullable = true)\n",
      " |    |-- datos: array (nullable = true)\n",
      " |    |    |-- element: struct (containsNull = true)\n",
      " |    |    |    |-- calidad: double (nullable = true)\n",
      " |    |    |    |-- valor: double (nullable = true)\n",
      " |    |    |    |-- variableConsulta: string (nullable = true)\n",
      " |    |-- fecha: string (nullable = true)\n",
      "\n",
      "561613\n",
      "+--------------------+\n",
      "|                 col|\n",
      "+--------------------+\n",
      "|{[{1.0, 18.7, tem...|\n",
      "|{[{1.0, 18.6, tem...|\n",
      "|{[{1.0, 18.6, tem...|\n",
      "|{[{1.0, 18.5, tem...|\n",
      "|{[{1.0, 18.5, tem...|\n",
      "|{[{1.0, 18.5, tem...|\n",
      "|{[{1.0, 18.5, tem...|\n",
      "|{[{1.0, 18.5, tem...|\n",
      "|{[{1.0, 18.5, tem...|\n",
      "|{[{1.0, 18.5, tem...|\n",
      "|{[{1.0, 18.5, tem...|\n",
      "|{[{1.0, 18.5, tem...|\n",
      "|{[{1.0, 18.5, tem...|\n",
      "|{[{1.0, 18.5, tem...|\n",
      "|{[{1.0, 18.4, tem...|\n",
      "|{[{1.0, 18.5, tem...|\n",
      "|{[{1.0, 18.4, tem...|\n",
      "|{[{1.0, 18.5, tem...|\n",
      "|{[{1.0, 18.5, tem...|\n",
      "|{[{1.0, 18.5, tem...|\n",
      "+--------------------+\n",
      "only showing top 20 rows"
     ]
    }
   ],
   "source": [
    "df1 = df.select(explode(df.datos))\n",
    "df1.printSchema()\n",
    "print(df1.count())\n",
    "df1.show()"
   ]
  },
  {
   "cell_type": "code",
   "execution_count": 6,
   "metadata": {},
   "outputs": [
    {
     "data": {
      "application/vnd.jupyter.widget-view+json": {
       "model_id": "",
       "version_major": 2,
       "version_minor": 0
      },
      "text/plain": [
       "FloatProgress(value=0.0, bar_style='info', description='Progress:', layout=Layout(height='25px', width='50%'),…"
      ]
     },
     "metadata": {},
     "output_type": "display_data"
    },
    {
     "name": "stdout",
     "output_type": "stream",
     "text": [
      "root\n",
      " |-- fecha: string (nullable = true)\n",
      " |-- variableConsulta: string (nullable = true)\n",
      " |-- calidad: double (nullable = true)\n",
      " |-- valor: double (nullable = true)\n",
      "\n",
      "+-------------------+----------------+-------+-----+\n",
      "|              fecha|variableConsulta|calidad|valor|\n",
      "+-------------------+----------------+-------+-----+\n",
      "|2022-06-07 18:15:00|     temperatura|    1.0| 18.7|\n",
      "|2022-06-07 18:16:00|     temperatura|    1.0| 18.6|\n",
      "|2022-06-07 18:17:00|     temperatura|    1.0| 18.6|\n",
      "|2022-06-07 18:18:00|     temperatura|    1.0| 18.5|\n",
      "|2022-06-07 18:19:00|     temperatura|    1.0| 18.5|\n",
      "|2022-06-07 18:20:00|     temperatura|    1.0| 18.5|\n",
      "|2022-06-07 18:21:00|     temperatura|    1.0| 18.5|\n",
      "|2022-06-07 18:22:00|     temperatura|    1.0| 18.5|\n",
      "|2022-06-07 18:23:00|     temperatura|    1.0| 18.5|\n",
      "|2022-06-07 18:24:00|     temperatura|    1.0| 18.5|\n",
      "|2022-06-07 18:25:00|     temperatura|    1.0| 18.5|\n",
      "|2022-06-07 18:26:00|     temperatura|    1.0| 18.5|\n",
      "|2022-06-07 18:27:00|     temperatura|    1.0| 18.5|\n",
      "|2022-06-07 18:28:00|     temperatura|    1.0| 18.5|\n",
      "|2022-06-07 18:29:00|     temperatura|    1.0| 18.4|\n",
      "|2022-06-07 18:30:00|     temperatura|    1.0| 18.5|\n",
      "|2022-06-07 18:31:00|     temperatura|    1.0| 18.4|\n",
      "|2022-06-07 18:32:00|     temperatura|    1.0| 18.5|\n",
      "|2022-06-07 18:33:00|     temperatura|    1.0| 18.5|\n",
      "|2022-06-07 18:34:00|     temperatura|    1.0| 18.5|\n",
      "+-------------------+----------------+-------+-----+\n",
      "only showing top 20 rows\n",
      "\n",
      "561613"
     ]
    }
   ],
   "source": [
    "df2 = df1.rdd.map(lambda row: (row.col[\"fecha\"],row.col[\"datos\"][0][\"variableConsulta\"],row.col[\"datos\"][0][\"calidad\"],row.col[\"datos\"][0][\"valor\"])).toDF([\"fecha\",\"variableConsulta\",\"calidad\",\"valor\"])\n",
    "df2.printSchema()\n",
    "df2.show()\n",
    "print(df2.count())"
   ]
  },
  {
   "cell_type": "code",
   "execution_count": 8,
   "metadata": {},
   "outputs": [
    {
     "data": {
      "application/vnd.jupyter.widget-view+json": {
       "model_id": "",
       "version_major": 2,
       "version_minor": 0
      },
      "text/plain": [
       "FloatProgress(value=0.0, bar_style='info', description='Progress:', layout=Layout(height='25px', width='50%'),…"
      ]
     },
     "metadata": {},
     "output_type": "display_data"
    },
    {
     "name": "stdout",
     "output_type": "stream",
     "text": [
      "Saved to Raw Zone"
     ]
    }
   ],
   "source": [
    "df2.write.option(\"header\",True).csv('s3a://trabajo1-mariana-laura-juan/Raw/Medellin/Medellin_temperatura')\n",
    "print('Saved to Raw Zone')"
   ]
  }
 ],
 "metadata": {
  "kernelspec": {
   "display_name": "PySpark",
   "language": "",
   "name": "pysparkkernel"
  },
  "language_info": {
   "codemirror_mode": {
    "name": "python",
    "version": 3
   },
   "mimetype": "text/x-python",
   "name": "pyspark",
   "pygments_lexer": "python3"
  }
 },
 "nbformat": 4,
 "nbformat_minor": 4
}
