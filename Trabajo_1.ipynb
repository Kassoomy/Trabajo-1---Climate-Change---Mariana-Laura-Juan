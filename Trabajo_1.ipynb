{
  "nbformat": 4,
  "nbformat_minor": 0,
  "metadata": {
    "colab": {
      "provenance": [],
      "collapsed_sections": [],
      "authorship_tag": "ABX9TyNmc1m4QQxa0Ee2eWBN/Lxk",
      "include_colab_link": true
    },
    "kernelspec": {
      "name": "python3",
      "display_name": "Python 3"
    },
    "language_info": {
      "name": "python"
    }
  },
  "cells": [
    {
      "cell_type": "markdown",
      "metadata": {
        "id": "view-in-github",
        "colab_type": "text"
      },
      "source": [
        "<a href=\"https://colab.research.google.com/github/Kassoomy/Trabajo-1---Climate-Change---Mariana-Laura-Juan/blob/main/Trabajo_1.ipynb\" target=\"_parent\"><img src=\"https://colab.research.google.com/assets/colab-badge.svg\" alt=\"Open In Colab\"/></a>"
      ]
    },
    {
      "cell_type": "markdown",
      "source": [
        "# Libraries SetUp"
      ],
      "metadata": {
        "id": "nVcwKjK3ilQ3"
      }
    },
    {
      "cell_type": "markdown",
      "source": [
        "## General"
      ],
      "metadata": {
        "id": "ztcJOnhWivac"
      }
    },
    {
      "cell_type": "code",
      "execution_count": 6,
      "metadata": {
        "id": "Gjzuk-z_YqPw"
      },
      "outputs": [],
      "source": [
        "import netCDF4 as nc\n",
        "import pandas as pd \n",
        "import json"
      ]
    },
    {
      "cell_type": "code",
      "source": [
        "from google.colab import drive\n",
        "drive.mount('/content/gdrive')"
      ],
      "metadata": {
        "colab": {
          "base_uri": "https://localhost:8080/"
        },
        "id": "S4YuRjoW6ynu",
        "outputId": "0b241aae-9d92-424c-b336-b46199ce1047"
      },
      "execution_count": 3,
      "outputs": [
        {
          "output_type": "stream",
          "name": "stdout",
          "text": [
            "Mounted at /content/gdrive\n"
          ]
        }
      ]
    },
    {
      "cell_type": "markdown",
      "source": [
        "# New Section"
      ],
      "metadata": {
        "id": "xA3tZgbY71Wk"
      }
    },
    {
      "cell_type": "code",
      "source": [
        "# en gdrive:\n",
        "mainFolder = \"gdrive/MyDrive/STUDY/EAFIT/Ciencia de Datos y Analitica (Maestria)/Semestre 2022-02 (1)/Almacenamiento y Recuperacion de datos/Trabajo 1 Alm & Rec Datos/Data Source/\"\n",
        "df = pd.read_json(mainFolder + 'Datos_SIATA_Vaisala_temperatura.json')\n",
        "print(df)\n"
      ],
      "metadata": {
        "colab": {
          "base_uri": "https://localhost:8080/"
        },
        "id": "5DwRRkj0624L",
        "outputId": "dd412fcc-9116-4c5a-ff77-f68e7472a142"
      },
      "execution_count": 4,
      "outputs": [
        {
          "output_type": "stream",
          "name": "stdout",
          "text": [
            "     latitud           subcuenca      ciudad  \\\n",
            "0   6.213940    Q. La Presidenta    Medellin   \n",
            "1   6.269250      Q. La Chorrera    Medellin   \n",
            "2   6.345343  R. Aburra-Medellin  Copacabana   \n",
            "3   6.434950    Q. Agua Caliente     Barbosa   \n",
            "4   6.271891        Q. La Iguana    Medellin   \n",
            "5   6.096280  R. Aburra-Medellin      Caldas   \n",
            "6   6.424500         Q. La Silva     Barbosa   \n",
            "7   6.259195         Q. La Hueso    Medellin   \n",
            "8   6.242238  R. Aburra-Medellin    Medellin   \n",
            "9   6.260740        Q. La Iguana    Medellin   \n",
            "10  6.193500    Q. La Presidenta    Medellin   \n",
            "11  6.167930       Q. Dona Maria      Itagui   \n",
            "12  6.283280  Q. Piedras Blancas      Guarne   \n",
            "\n",
            "                                                datos  \\\n",
            "0   [{'fecha': '2022-06-07 18:15:00', 'datos': [{'...   \n",
            "1   [{'fecha': '2022-06-07 18:15:00', 'datos': [{'...   \n",
            "2   [{'fecha': '2022-06-07 18:15:00', 'datos': [{'...   \n",
            "3   [{'fecha': '2022-06-07 18:15:00', 'datos': [{'...   \n",
            "4   [{'fecha': '2022-06-07 18:15:00', 'datos': [{'...   \n",
            "5   [{'fecha': '2022-06-07 18:15:00', 'datos': [{'...   \n",
            "6   [{'fecha': '2022-06-07 18:15:00', 'datos': [{'...   \n",
            "7   [{'fecha': '2022-06-07 18:15:00', 'datos': [{'...   \n",
            "8   [{'fecha': '2022-06-07 18:15:00', 'datos': [{'...   \n",
            "9   [{'fecha': '2022-06-07 18:15:00', 'datos': [{'...   \n",
            "10  [{'fecha': '2022-06-07 18:15:00', 'datos': [{'...   \n",
            "11  [{'fecha': '2022-06-07 18:15:00', 'datos': [{'...   \n",
            "12  [{'fecha': '2022-06-07 18:15:00', 'datos': [{'...   \n",
            "\n",
            "                                               nombre  codigo   longitud  \n",
            "0                                              ISAGEN      59 -75.558970  \n",
            "1                                     Jardin Botanico      68 -75.562910  \n",
            "2                         Ciudadela Educativa La Vida      73 -75.504722  \n",
            "3                             I.E Manuel Jose Caicedo      82 -75.326646  \n",
            "4   Centro de Salud San Javier La Loma - Meteorolo...      83 -75.631123  \n",
            "5                                      Parque 3 Aguas     105 -75.635360  \n",
            "6                                            Tasajera     122 -75.435220  \n",
            "7                                         Torre SIATA     201 -75.588697  \n",
            "8                                                AMVA     202 -75.574031  \n",
            "9                                 UNAL-Sede Agronomia     203 -75.578250  \n",
            "10                                  Santa Elena-Radar     205 -75.527600  \n",
            "11                          Colegio Concejo de Itagui     206 -75.643800  \n",
            "12                         Vivero EPM Piedras Blancas     207 -75.493970  \n"
          ]
        }
      ]
    },
    {
      "cell_type": "code",
      "source": [
        "# load data using Python JSON module\n",
        "with open(mainFolder + 'Datos_SIATA_Vaisala_temperatura.json','r') as soruceJ:\n",
        "    data = json.loads(soruceJ.read())\n",
        "# Flatten data\n",
        "df_nested_list = pd.json_normalize(data, record_path =['datos'])\n",
        "print(df_nested_list.columns)\n",
        "print(\"-\"*50)\n",
        "print(df_nested_list)"
      ],
      "metadata": {
        "colab": {
          "base_uri": "https://localhost:8080/"
        },
        "id": "GgGDB61E9GlR",
        "outputId": "b95ad793-d2dd-40f9-f1c2-a6cded4d0725"
      },
      "execution_count": 17,
      "outputs": [
        {
          "output_type": "stream",
          "name": "stdout",
          "text": [
            "Index(['fecha', 'datos'], dtype='object')\n",
            "--------------------------------------------------\n",
            "                      fecha                                              datos\n",
            "0       2022-06-07 18:15:00  [{'variableConsulta': 'temperatura', 'calidad'...\n",
            "1       2022-06-07 18:16:00  [{'variableConsulta': 'temperatura', 'calidad'...\n",
            "2       2022-06-07 18:17:00  [{'variableConsulta': 'temperatura', 'calidad'...\n",
            "3       2022-06-07 18:18:00  [{'variableConsulta': 'temperatura', 'calidad'...\n",
            "4       2022-06-07 18:19:00  [{'variableConsulta': 'temperatura', 'calidad'...\n",
            "...                     ...                                                ...\n",
            "561608  2022-07-07 18:11:00  [{'variableConsulta': 'temperatura', 'calidad'...\n",
            "561609  2022-07-07 18:12:00  [{'variableConsulta': 'temperatura', 'calidad'...\n",
            "561610  2022-07-07 18:13:00  [{'variableConsulta': 'temperatura', 'calidad'...\n",
            "561611  2022-07-07 18:14:00  [{'variableConsulta': 'temperatura', 'calidad'...\n",
            "561612  2022-07-07 18:15:00  [{'variableConsulta': 'temperatura', 'calidad'...\n",
            "\n",
            "[561613 rows x 2 columns]\n"
          ]
        }
      ]
    },
    {
      "cell_type": "code",
      "source": [
        "# df = pd.concat([df_nested_list.drop(['datos'], axis=1), df_nested_list['datos'].apply(pd.Series)], axis=1)\n",
        "df = df_nested_list.apply(lambda row: row['datos'][0], axis=1)\n",
        "df = df.apply(pd.Series)\n"
      ],
      "metadata": {
        "id": "kglbyg8xC4cC"
      },
      "execution_count": 40,
      "outputs": []
    },
    {
      "cell_type": "code",
      "source": [
        "df = pd.concat([df_nested_list['fecha'], df], axis=1)\n",
        "# print(df.columns)\n",
        "# print(\"-\"*50)\n",
        "print(df)"
      ],
      "metadata": {
        "colab": {
          "base_uri": "https://localhost:8080/"
        },
        "id": "NB5m-MdvJz7R",
        "outputId": "33f7e84f-653b-4cc3-ac88-0c2f222f39a8"
      },
      "execution_count": 42,
      "outputs": [
        {
          "output_type": "stream",
          "name": "stdout",
          "text": [
            "                      fecha variableConsulta  calidad  valor\n",
            "0       2022-06-07 18:15:00      temperatura      1.0   18.7\n",
            "1       2022-06-07 18:16:00      temperatura      1.0   18.6\n",
            "2       2022-06-07 18:17:00      temperatura      1.0   18.6\n",
            "3       2022-06-07 18:18:00      temperatura      1.0   18.5\n",
            "4       2022-06-07 18:19:00      temperatura      1.0   18.5\n",
            "...                     ...              ...      ...    ...\n",
            "561608  2022-07-07 18:11:00      temperatura      1.0   16.6\n",
            "561609  2022-07-07 18:12:00      temperatura      1.0   16.5\n",
            "561610  2022-07-07 18:13:00      temperatura      1.0   16.5\n",
            "561611  2022-07-07 18:14:00      temperatura      1.0   16.5\n",
            "561612  2022-07-07 18:15:00      temperatura      1.0   16.5\n",
            "\n",
            "[561613 rows x 4 columns]\n"
          ]
        }
      ]
    }
  ]
}